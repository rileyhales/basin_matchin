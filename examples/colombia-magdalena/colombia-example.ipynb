{
 "cells": [
  {
   "cell_type": "code",
   "execution_count": 1,
   "metadata": {},
   "outputs": [],
   "source": [
    "import os\n",
    "import rbc"
   ]
  },
  {
   "cell_type": "code",
   "execution_count": 2,
   "metadata": {},
   "outputs": [],
   "source": [
    "workdir = '/Users/rchales/data/regional-bias-correction/colombia-magdalena'\n",
    "drain_shape = os.path.join(workdir, 'gis_inputs', 'magdalena_drainlines_namedattrs.json')\n",
    "hist_sim_nc = os.path.join(workdir, 'data_simulated', 'south_america_era5_qout.nc')"
   ]
  },
  {
   "cell_type": "code",
   "execution_count": 3,
   "metadata": {},
   "outputs": [],
   "source": [
    "assign_table = rbc.table.read(workdir)"
   ]
  },
  {
   "cell_type": "code",
   "execution_count": 4,
   "metadata": {},
   "outputs": [],
   "source": [
    "a = assign_table.copy()"
   ]
  },
  {
   "cell_type": "code",
   "execution_count": 5,
   "metadata": {},
   "outputs": [
    {
     "data": {
      "text/plain": [
       "[0, 1, 2, 3]"
      ]
     },
     "execution_count": 5,
     "metadata": {},
     "output_type": "execute_result"
    }
   ],
   "source": [
    "sorted(set(a['sim-fdc-cluster'].values))"
   ]
  },
  {
   "cell_type": "code",
   "execution_count": 6,
   "metadata": {},
   "outputs": [],
   "source": [
    "b = a[a['sim-fdc-cluster'] == 0]"
   ]
  },
  {
   "cell_type": "code",
   "execution_count": 7,
   "metadata": {},
   "outputs": [],
   "source": [
    "b.to_csv('tmp.csv')"
   ]
  },
  {
   "cell_type": "code",
   "execution_count": 8,
   "metadata": {
    "scrolled": true
   },
   "outputs": [
    {
     "data": {
      "text/html": [
       "<div>\n",
       "<style scoped>\n",
       "    .dataframe tbody tr th:only-of-type {\n",
       "        vertical-align: middle;\n",
       "    }\n",
       "\n",
       "    .dataframe tbody tr th {\n",
       "        vertical-align: top;\n",
       "    }\n",
       "\n",
       "    .dataframe thead th {\n",
       "        text-align: right;\n",
       "    }\n",
       "</style>\n",
       "<table border=\"1\" class=\"dataframe\">\n",
       "  <thead>\n",
       "    <tr style=\"text-align: right;\">\n",
       "      <th></th>\n",
       "      <th>downstream_model_id</th>\n",
       "      <th>model_id</th>\n",
       "      <th>drainage_area_mod</th>\n",
       "      <th>stream_order</th>\n",
       "      <th>gauge_id</th>\n",
       "      <th>assigned_id</th>\n",
       "      <th>reason</th>\n",
       "      <th>sim-fdc-cluster</th>\n",
       "      <th>obs-fdc-cluster</th>\n",
       "    </tr>\n",
       "  </thead>\n",
       "  <tbody>\n",
       "    <tr>\n",
       "      <th>16</th>\n",
       "      <td>9000433</td>\n",
       "      <td>9000346</td>\n",
       "      <td>73937587.8</td>\n",
       "      <td>1</td>\n",
       "      <td>NaN</td>\n",
       "      <td>NaN</td>\n",
       "      <td>NaN</td>\n",
       "      <td>0</td>\n",
       "      <td>NaN</td>\n",
       "    </tr>\n",
       "    <tr>\n",
       "      <th>17</th>\n",
       "      <td>9000433</td>\n",
       "      <td>9000347</td>\n",
       "      <td>103358605.7</td>\n",
       "      <td>1</td>\n",
       "      <td>NaN</td>\n",
       "      <td>NaN</td>\n",
       "      <td>NaN</td>\n",
       "      <td>0</td>\n",
       "      <td>NaN</td>\n",
       "    </tr>\n",
       "    <tr>\n",
       "      <th>29</th>\n",
       "      <td>9000348</td>\n",
       "      <td>9000391</td>\n",
       "      <td>820711818.1</td>\n",
       "      <td>3</td>\n",
       "      <td>NaN</td>\n",
       "      <td>NaN</td>\n",
       "      <td>NaN</td>\n",
       "      <td>0</td>\n",
       "      <td>NaN</td>\n",
       "    </tr>\n",
       "    <tr>\n",
       "      <th>43</th>\n",
       "      <td>9000469</td>\n",
       "      <td>9000432</td>\n",
       "      <td>87711889.9</td>\n",
       "      <td>1</td>\n",
       "      <td>NaN</td>\n",
       "      <td>NaN</td>\n",
       "      <td>NaN</td>\n",
       "      <td>0</td>\n",
       "      <td>NaN</td>\n",
       "    </tr>\n",
       "    <tr>\n",
       "      <th>44</th>\n",
       "      <td>9000391</td>\n",
       "      <td>9000435</td>\n",
       "      <td>378978505.3</td>\n",
       "      <td>2</td>\n",
       "      <td>NaN</td>\n",
       "      <td>NaN</td>\n",
       "      <td>NaN</td>\n",
       "      <td>0</td>\n",
       "      <td>NaN</td>\n",
       "    </tr>\n",
       "    <tr>\n",
       "      <th>...</th>\n",
       "      <td>...</td>\n",
       "      <td>...</td>\n",
       "      <td>...</td>\n",
       "      <td>...</td>\n",
       "      <td>...</td>\n",
       "      <td>...</td>\n",
       "      <td>...</td>\n",
       "      <td>...</td>\n",
       "      <td>...</td>\n",
       "    </tr>\n",
       "    <tr>\n",
       "      <th>2224</th>\n",
       "      <td>9009844</td>\n",
       "      <td>9009936</td>\n",
       "      <td>531307435.9</td>\n",
       "      <td>2</td>\n",
       "      <td>21257070.0</td>\n",
       "      <td>21257070.0</td>\n",
       "      <td>gauged</td>\n",
       "      <td>0</td>\n",
       "      <td>3.0</td>\n",
       "    </tr>\n",
       "    <tr>\n",
       "      <th>2232</th>\n",
       "      <td>9010320</td>\n",
       "      <td>9010327</td>\n",
       "      <td>337199911.3</td>\n",
       "      <td>1</td>\n",
       "      <td>21257090.0</td>\n",
       "      <td>21257090.0</td>\n",
       "      <td>gauged</td>\n",
       "      <td>0</td>\n",
       "      <td>0.0</td>\n",
       "    </tr>\n",
       "    <tr>\n",
       "      <th>2240</th>\n",
       "      <td>9011017</td>\n",
       "      <td>9011229</td>\n",
       "      <td>327856283.4</td>\n",
       "      <td>2</td>\n",
       "      <td>21227010.0</td>\n",
       "      <td>21227010.0</td>\n",
       "      <td>gauged</td>\n",
       "      <td>0</td>\n",
       "      <td>2.0</td>\n",
       "    </tr>\n",
       "    <tr>\n",
       "      <th>2278</th>\n",
       "      <td>9013769</td>\n",
       "      <td>9014132</td>\n",
       "      <td>176847798.1</td>\n",
       "      <td>1</td>\n",
       "      <td>22057050.0</td>\n",
       "      <td>22057050.0</td>\n",
       "      <td>gauged</td>\n",
       "      <td>0</td>\n",
       "      <td>2.0</td>\n",
       "    </tr>\n",
       "    <tr>\n",
       "      <th>2282</th>\n",
       "      <td>9014339</td>\n",
       "      <td>9014356</td>\n",
       "      <td>665204076.3</td>\n",
       "      <td>2</td>\n",
       "      <td>21137030.0</td>\n",
       "      <td>21137030.0</td>\n",
       "      <td>gauged</td>\n",
       "      <td>0</td>\n",
       "      <td>2.0</td>\n",
       "    </tr>\n",
       "  </tbody>\n",
       "</table>\n",
       "<p>417 rows × 9 columns</p>\n",
       "</div>"
      ],
      "text/plain": [
       "      downstream_model_id  model_id  drainage_area_mod  stream_order  \\\n",
       "16                9000433   9000346         73937587.8             1   \n",
       "17                9000433   9000347        103358605.7             1   \n",
       "29                9000348   9000391        820711818.1             3   \n",
       "43                9000469   9000432         87711889.9             1   \n",
       "44                9000391   9000435        378978505.3             2   \n",
       "...                   ...       ...                ...           ...   \n",
       "2224              9009844   9009936        531307435.9             2   \n",
       "2232              9010320   9010327        337199911.3             1   \n",
       "2240              9011017   9011229        327856283.4             2   \n",
       "2278              9013769   9014132        176847798.1             1   \n",
       "2282              9014339   9014356        665204076.3             2   \n",
       "\n",
       "        gauge_id  assigned_id  reason  sim-fdc-cluster  obs-fdc-cluster  \n",
       "16           NaN          NaN     NaN                0              NaN  \n",
       "17           NaN          NaN     NaN                0              NaN  \n",
       "29           NaN          NaN     NaN                0              NaN  \n",
       "43           NaN          NaN     NaN                0              NaN  \n",
       "44           NaN          NaN     NaN                0              NaN  \n",
       "...          ...          ...     ...              ...              ...  \n",
       "2224  21257070.0   21257070.0  gauged                0              3.0  \n",
       "2232  21257090.0   21257090.0  gauged                0              0.0  \n",
       "2240  21227010.0   21227010.0  gauged                0              2.0  \n",
       "2278  22057050.0   22057050.0  gauged                0              2.0  \n",
       "2282  21137030.0   21137030.0  gauged                0              2.0  \n",
       "\n",
       "[417 rows x 9 columns]"
      ]
     },
     "execution_count": 8,
     "metadata": {},
     "output_type": "execute_result"
    }
   ],
   "source": [
    "b"
   ]
  },
  {
   "cell_type": "code",
   "execution_count": 9,
   "metadata": {},
   "outputs": [
    {
     "data": {
      "text/plain": [
       "[1, 2, 3]"
      ]
     },
     "execution_count": 9,
     "metadata": {},
     "output_type": "execute_result"
    }
   ],
   "source": [
    "sorted(set(b['stream_order']))"
   ]
  },
  {
   "cell_type": "code",
   "execution_count": 10,
   "metadata": {},
   "outputs": [],
   "source": [
    "c = b[b['stream_order'] == 3]"
   ]
  },
  {
   "cell_type": "code",
   "execution_count": 11,
   "metadata": {},
   "outputs": [
    {
     "data": {
      "text/html": [
       "<div>\n",
       "<style scoped>\n",
       "    .dataframe tbody tr th:only-of-type {\n",
       "        vertical-align: middle;\n",
       "    }\n",
       "\n",
       "    .dataframe tbody tr th {\n",
       "        vertical-align: top;\n",
       "    }\n",
       "\n",
       "    .dataframe thead th {\n",
       "        text-align: right;\n",
       "    }\n",
       "</style>\n",
       "<table border=\"1\" class=\"dataframe\">\n",
       "  <thead>\n",
       "    <tr style=\"text-align: right;\">\n",
       "      <th></th>\n",
       "      <th>downstream_model_id</th>\n",
       "      <th>model_id</th>\n",
       "      <th>drainage_area_mod</th>\n",
       "      <th>stream_order</th>\n",
       "      <th>gauge_id</th>\n",
       "      <th>assigned_id</th>\n",
       "      <th>reason</th>\n",
       "      <th>sim-fdc-cluster</th>\n",
       "      <th>obs-fdc-cluster</th>\n",
       "    </tr>\n",
       "  </thead>\n",
       "  <tbody>\n",
       "    <tr>\n",
       "      <th>29</th>\n",
       "      <td>9000348</td>\n",
       "      <td>9000391</td>\n",
       "      <td>8.207118e+08</td>\n",
       "      <td>3</td>\n",
       "      <td>NaN</td>\n",
       "      <td>NaN</td>\n",
       "      <td>NaN</td>\n",
       "      <td>0</td>\n",
       "      <td>NaN</td>\n",
       "    </tr>\n",
       "    <tr>\n",
       "      <th>218</th>\n",
       "      <td>9001222</td>\n",
       "      <td>9001219</td>\n",
       "      <td>1.279048e+09</td>\n",
       "      <td>3</td>\n",
       "      <td>NaN</td>\n",
       "      <td>9001336.0</td>\n",
       "      <td>propagation-upstream-1</td>\n",
       "      <td>0</td>\n",
       "      <td>NaN</td>\n",
       "    </tr>\n",
       "    <tr>\n",
       "      <th>219</th>\n",
       "      <td>9001243</td>\n",
       "      <td>9001222</td>\n",
       "      <td>1.391088e+09</td>\n",
       "      <td>3</td>\n",
       "      <td>NaN</td>\n",
       "      <td>9001336.0</td>\n",
       "      <td>propagation-upstream-2</td>\n",
       "      <td>0</td>\n",
       "      <td>NaN</td>\n",
       "    </tr>\n",
       "    <tr>\n",
       "      <th>1105</th>\n",
       "      <td>9006357</td>\n",
       "      <td>9006694</td>\n",
       "      <td>1.634095e+09</td>\n",
       "      <td>3</td>\n",
       "      <td>NaN</td>\n",
       "      <td>9006357.0</td>\n",
       "      <td>propagation-upstream-3</td>\n",
       "      <td>0</td>\n",
       "      <td>NaN</td>\n",
       "    </tr>\n",
       "  </tbody>\n",
       "</table>\n",
       "</div>"
      ],
      "text/plain": [
       "      downstream_model_id  model_id  drainage_area_mod  stream_order  \\\n",
       "29                9000348   9000391       8.207118e+08             3   \n",
       "218               9001222   9001219       1.279048e+09             3   \n",
       "219               9001243   9001222       1.391088e+09             3   \n",
       "1105              9006357   9006694       1.634095e+09             3   \n",
       "\n",
       "      gauge_id  assigned_id                  reason  sim-fdc-cluster  \\\n",
       "29         NaN          NaN                     NaN                0   \n",
       "218        NaN    9001336.0  propagation-upstream-1                0   \n",
       "219        NaN    9001336.0  propagation-upstream-2                0   \n",
       "1105       NaN    9006357.0  propagation-upstream-3                0   \n",
       "\n",
       "      obs-fdc-cluster  \n",
       "29                NaN  \n",
       "218               NaN  \n",
       "219               NaN  \n",
       "1105              NaN  "
      ]
     },
     "execution_count": 11,
     "metadata": {},
     "output_type": "execute_result"
    }
   ],
   "source": [
    "c"
   ]
  },
  {
   "cell_type": "code",
   "execution_count": 12,
   "metadata": {},
   "outputs": [
    {
     "data": {
      "text/html": [
       "<div>\n",
       "<style scoped>\n",
       "    .dataframe tbody tr th:only-of-type {\n",
       "        vertical-align: middle;\n",
       "    }\n",
       "\n",
       "    .dataframe tbody tr th {\n",
       "        vertical-align: top;\n",
       "    }\n",
       "\n",
       "    .dataframe thead th {\n",
       "        text-align: right;\n",
       "    }\n",
       "</style>\n",
       "<table border=\"1\" class=\"dataframe\">\n",
       "  <thead>\n",
       "    <tr style=\"text-align: right;\">\n",
       "      <th></th>\n",
       "      <th>downstream_model_id</th>\n",
       "      <th>model_id</th>\n",
       "      <th>drainage_area_mod</th>\n",
       "      <th>stream_order</th>\n",
       "      <th>gauge_id</th>\n",
       "      <th>assigned_id</th>\n",
       "      <th>reason</th>\n",
       "      <th>sim-fdc-cluster</th>\n",
       "      <th>obs-fdc-cluster</th>\n",
       "    </tr>\n",
       "  </thead>\n",
       "  <tbody>\n",
       "  </tbody>\n",
       "</table>\n",
       "</div>"
      ],
      "text/plain": [
       "Empty DataFrame\n",
       "Columns: [downstream_model_id, model_id, drainage_area_mod, stream_order, gauge_id, assigned_id, reason, sim-fdc-cluster, obs-fdc-cluster]\n",
       "Index: []"
      ]
     },
     "execution_count": 12,
     "metadata": {},
     "output_type": "execute_result"
    }
   ],
   "source": [
    "c[c['obs-fdc-cluster'] == 3]"
   ]
  },
  {
   "cell_type": "code",
   "execution_count": 13,
   "metadata": {},
   "outputs": [],
   "source": [
    "rbc.gis.clip_by_ids(workdir, c['model_id'].values, drain_shape)"
   ]
  },
  {
   "cell_type": "code",
   "execution_count": 14,
   "metadata": {},
   "outputs": [],
   "source": [
    "rbc.gis.clip_by_ids(workdir, [9001336, 9006357], drain_shape, 'gauges')"
   ]
  },
  {
   "cell_type": "code",
   "execution_count": null,
   "metadata": {},
   "outputs": [],
   "source": []
  },
  {
   "cell_type": "code",
   "execution_count": null,
   "metadata": {},
   "outputs": [],
   "source": [
    "# # Only need to do this step 1x ever\n",
    "# rbc.prep.scaffold_working_directory(workdir)"
   ]
  },
  {
   "cell_type": "code",
   "execution_count": null,
   "metadata": {},
   "outputs": [],
   "source": [
    "# Create the gauge_table and drain_table.csv\n",
    "# Scripts not provided, check readme for instructions"
   ]
  },
  {
   "cell_type": "code",
   "execution_count": null,
   "metadata": {},
   "outputs": [],
   "source": [
    "# Generate the assignments table\n",
    "assign_table = rbc.prep.gen_assignments_table(workdir)\n",
    "rbc.table.cache(workdir, assign_table)\n",
    "\n",
    "# or read the existing assignments table\n",
    "assign_table = rbc.table.read(workdir)"
   ]
  },
  {
   "cell_type": "code",
   "execution_count": null,
   "metadata": {},
   "outputs": [],
   "source": [
    "# Prepare the observation and simulation data\n",
    "# Only need to do this step 1x ever\n",
    "rbc.prep.historical_simulation(hist_sim_nc, workdir)\n",
    "rbc.prep.observation_data(workdir)"
   ]
  },
  {
   "cell_type": "code",
   "execution_count": null,
   "metadata": {},
   "outputs": [],
   "source": [
    "# Generate the clusters using the historical simulation data\n",
    "rbc.cluster.generate(workdir)\n",
    "assign_table = rbc.cluster.summarize(workdir, assign_table)\n",
    "rbc.table.cache(workdir, assign_table)"
   ]
  },
  {
   "cell_type": "code",
   "execution_count": null,
   "metadata": {},
   "outputs": [],
   "source": [
    "# Assign basins which are gauged\n",
    "assign_table = rbc.assign.gauged(assign_table)"
   ]
  },
  {
   "cell_type": "code",
   "execution_count": null,
   "metadata": {},
   "outputs": [],
   "source": [
    "# Assign basins by propagation from the gauges\n",
    "assign_table = rbc.assign.propagation(assign_table)"
   ]
  },
  {
   "cell_type": "code",
   "execution_count": null,
   "metadata": {},
   "outputs": [],
   "source": [
    "# Assign basins by clusters\n",
    "assign_table = rbc.assign.clusters(assign_table)"
   ]
  },
  {
   "cell_type": "code",
   "execution_count": null,
   "metadata": {},
   "outputs": [],
   "source": [
    "# Cache the assignments table with the updates\n",
    "rbc.table.cache(workdir, assign_table)"
   ]
  },
  {
   "cell_type": "code",
   "execution_count": 5,
   "metadata": {
    "scrolled": true
   },
   "outputs": [],
   "source": [
    "# Generate GIS files so you can go explore your progress graphically\n",
    "rbc.gis.clip_by_assignment(workdir, assign_table, drain_shape)\n",
    "rbc.gis.clip_by_cluster(workdir, assign_table, drain_shape)"
   ]
  },
  {
   "cell_type": "code",
   "execution_count": null,
   "metadata": {},
   "outputs": [],
   "source": []
  }
 ],
 "metadata": {
  "kernelspec": {
   "display_name": "Python 3 (ipykernel)",
   "language": "python",
   "name": "python3"
  },
  "language_info": {
   "codemirror_mode": {
    "name": "ipython",
    "version": 3
   },
   "file_extension": ".py",
   "mimetype": "text/x-python",
   "name": "python",
   "nbconvert_exporter": "python",
   "pygments_lexer": "ipython3",
   "version": "3.9.6"
  }
 },
 "nbformat": 4,
 "nbformat_minor": 1
}
